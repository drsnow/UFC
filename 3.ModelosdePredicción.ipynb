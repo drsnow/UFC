{
 "cells": [
  {
   "cell_type": "code",
   "execution_count": 1,
   "metadata": {},
   "outputs": [],
   "source": [
    "import pandas as pd \n",
    "from pandas import set_option\n",
    "import numpy as np\n",
    "import matplotlib.pyplot as plt\n",
    "import seaborn as sns\n",
    "from sklearn.preprocessing import MinMaxScaler\n",
    "from sklearn.preprocessing import StandardScaler\n",
    "from sklearn.preprocessing import LabelEncoder\n",
    "from sklearn.model_selection import KFold\n",
    "from sklearn.model_selection import cross_val_score\n",
    "from sklearn.model_selection import train_test_split\n",
    "from sklearn.neighbors import KNeighborsClassifier\n",
    "from sklearn.ensemble import ExtraTreesClassifier\n",
    "from sklearn.tree import DecisionTreeClassifier\n",
    "from sklearn.naive_bayes import GaussianNB\n",
    "from sklearn.discriminant_analysis import LinearDiscriminantAnalysis\n",
    "from sklearn.linear_model import LogisticRegression\n",
    "from sklearn.svm import SVC\n",
    "from sklearn.model_selection import GridSearchCV \n",
    "import sklearn.metrics as metrics\n",
    "from sklearn.metrics import roc_auc_score, roc_curve\n",
    "from sklearn.metrics import confusion_matrix, classification_report\n",
    "import joblib as jb\n",
    "from joblib import dump\n",
    "import sklearn.impute as ski\n",
    "import warnings\n",
    "warnings.filterwarnings(\"ignore\")\n",
    "\n",
    "\n",
    "archivo = 'data.csv'\n",
    "ufc = pd.read_csv(archivo)"
   ]
  },
  {
   "cell_type": "markdown",
   "metadata": {},
   "source": [
    "***PRE-PROCESAMIENTO***"
   ]
  },
  {
   "cell_type": "code",
   "execution_count": 2,
   "metadata": {},
   "outputs": [
    {
     "name": "stdout",
     "output_type": "stream",
     "text": [
      "(5144, 134)\n"
     ]
    },
    {
     "data": {
      "text/html": [
       "<div>\n",
       "<style scoped>\n",
       "    .dataframe tbody tr th:only-of-type {\n",
       "        vertical-align: middle;\n",
       "    }\n",
       "\n",
       "    .dataframe tbody tr th {\n",
       "        vertical-align: top;\n",
       "    }\n",
       "\n",
       "    .dataframe thead th {\n",
       "        text-align: right;\n",
       "    }\n",
       "</style>\n",
       "<table border=\"1\" class=\"dataframe\">\n",
       "  <thead>\n",
       "    <tr style=\"text-align: right;\">\n",
       "      <th></th>\n",
       "      <th>B_current_lose_streak</th>\n",
       "      <th>B_current_win_streak</th>\n",
       "      <th>B_draw</th>\n",
       "      <th>B_avg_BODY_att</th>\n",
       "      <th>B_avg_BODY_landed</th>\n",
       "      <th>B_avg_CLINCH_att</th>\n",
       "      <th>B_avg_CLINCH_landed</th>\n",
       "      <th>B_avg_DISTANCE_att</th>\n",
       "      <th>B_avg_DISTANCE_landed</th>\n",
       "      <th>B_avg_GROUND_att</th>\n",
       "      <th>...</th>\n",
       "      <th>R_win_by_Decision_Unanimous</th>\n",
       "      <th>R_win_by_KO/TKO</th>\n",
       "      <th>R_win_by_Submission</th>\n",
       "      <th>R_win_by_TKO_Doctor_Stoppage</th>\n",
       "      <th>R_wins</th>\n",
       "      <th>R_Height_cms</th>\n",
       "      <th>R_Reach_cms</th>\n",
       "      <th>R_Weight_lbs</th>\n",
       "      <th>B_age</th>\n",
       "      <th>R_age</th>\n",
       "    </tr>\n",
       "  </thead>\n",
       "  <tbody>\n",
       "    <tr>\n",
       "      <th>0</th>\n",
       "      <td>0.0</td>\n",
       "      <td>4.0</td>\n",
       "      <td>0.0</td>\n",
       "      <td>9.20</td>\n",
       "      <td>6.00</td>\n",
       "      <td>0.20</td>\n",
       "      <td>0.00</td>\n",
       "      <td>62.60</td>\n",
       "      <td>20.60</td>\n",
       "      <td>2.60</td>\n",
       "      <td>...</td>\n",
       "      <td>4.0</td>\n",
       "      <td>2.0</td>\n",
       "      <td>0.0</td>\n",
       "      <td>0.0</td>\n",
       "      <td>8.0</td>\n",
       "      <td>162.56</td>\n",
       "      <td>162.56</td>\n",
       "      <td>135.0</td>\n",
       "      <td>31.0</td>\n",
       "      <td>32.0</td>\n",
       "    </tr>\n",
       "    <tr>\n",
       "      <th>1</th>\n",
       "      <td>0.0</td>\n",
       "      <td>3.0</td>\n",
       "      <td>0.0</td>\n",
       "      <td>14.60</td>\n",
       "      <td>9.10</td>\n",
       "      <td>11.80</td>\n",
       "      <td>7.30</td>\n",
       "      <td>124.70</td>\n",
       "      <td>42.10</td>\n",
       "      <td>2.40</td>\n",
       "      <td>...</td>\n",
       "      <td>2.0</td>\n",
       "      <td>0.0</td>\n",
       "      <td>2.0</td>\n",
       "      <td>0.0</td>\n",
       "      <td>5.0</td>\n",
       "      <td>165.10</td>\n",
       "      <td>167.64</td>\n",
       "      <td>125.0</td>\n",
       "      <td>32.0</td>\n",
       "      <td>31.0</td>\n",
       "    </tr>\n",
       "    <tr>\n",
       "      <th>2</th>\n",
       "      <td>0.0</td>\n",
       "      <td>3.0</td>\n",
       "      <td>0.0</td>\n",
       "      <td>15.35</td>\n",
       "      <td>11.32</td>\n",
       "      <td>6.74</td>\n",
       "      <td>4.39</td>\n",
       "      <td>84.74</td>\n",
       "      <td>38.58</td>\n",
       "      <td>5.52</td>\n",
       "      <td>...</td>\n",
       "      <td>3.0</td>\n",
       "      <td>3.0</td>\n",
       "      <td>6.0</td>\n",
       "      <td>1.0</td>\n",
       "      <td>14.0</td>\n",
       "      <td>180.34</td>\n",
       "      <td>193.04</td>\n",
       "      <td>155.0</td>\n",
       "      <td>36.0</td>\n",
       "      <td>35.0</td>\n",
       "    </tr>\n",
       "    <tr>\n",
       "      <th>3</th>\n",
       "      <td>0.0</td>\n",
       "      <td>4.0</td>\n",
       "      <td>0.0</td>\n",
       "      <td>17.00</td>\n",
       "      <td>14.00</td>\n",
       "      <td>13.75</td>\n",
       "      <td>11.00</td>\n",
       "      <td>109.50</td>\n",
       "      <td>48.75</td>\n",
       "      <td>13.00</td>\n",
       "      <td>...</td>\n",
       "      <td>4.0</td>\n",
       "      <td>1.0</td>\n",
       "      <td>0.0</td>\n",
       "      <td>0.0</td>\n",
       "      <td>6.0</td>\n",
       "      <td>162.56</td>\n",
       "      <td>172.72</td>\n",
       "      <td>135.0</td>\n",
       "      <td>26.0</td>\n",
       "      <td>29.0</td>\n",
       "    </tr>\n",
       "    <tr>\n",
       "      <th>4</th>\n",
       "      <td>0.0</td>\n",
       "      <td>1.0</td>\n",
       "      <td>0.0</td>\n",
       "      <td>17.00</td>\n",
       "      <td>14.50</td>\n",
       "      <td>2.50</td>\n",
       "      <td>2.00</td>\n",
       "      <td>201.00</td>\n",
       "      <td>59.50</td>\n",
       "      <td>0.00</td>\n",
       "      <td>...</td>\n",
       "      <td>1.0</td>\n",
       "      <td>2.0</td>\n",
       "      <td>0.0</td>\n",
       "      <td>0.0</td>\n",
       "      <td>3.0</td>\n",
       "      <td>187.96</td>\n",
       "      <td>190.50</td>\n",
       "      <td>264.0</td>\n",
       "      <td>32.0</td>\n",
       "      <td>26.0</td>\n",
       "    </tr>\n",
       "  </tbody>\n",
       "</table>\n",
       "<p>5 rows × 134 columns</p>\n",
       "</div>"
      ],
      "text/plain": [
       "   B_current_lose_streak  B_current_win_streak  B_draw  B_avg_BODY_att  \\\n",
       "0                    0.0                   4.0     0.0            9.20   \n",
       "1                    0.0                   3.0     0.0           14.60   \n",
       "2                    0.0                   3.0     0.0           15.35   \n",
       "3                    0.0                   4.0     0.0           17.00   \n",
       "4                    0.0                   1.0     0.0           17.00   \n",
       "\n",
       "   B_avg_BODY_landed  B_avg_CLINCH_att  B_avg_CLINCH_landed  \\\n",
       "0               6.00              0.20                 0.00   \n",
       "1               9.10             11.80                 7.30   \n",
       "2              11.32              6.74                 4.39   \n",
       "3              14.00             13.75                11.00   \n",
       "4              14.50              2.50                 2.00   \n",
       "\n",
       "   B_avg_DISTANCE_att  B_avg_DISTANCE_landed  B_avg_GROUND_att  ...  \\\n",
       "0               62.60                  20.60              2.60  ...   \n",
       "1              124.70                  42.10              2.40  ...   \n",
       "2               84.74                  38.58              5.52  ...   \n",
       "3              109.50                  48.75             13.00  ...   \n",
       "4              201.00                  59.50              0.00  ...   \n",
       "\n",
       "   R_win_by_Decision_Unanimous  R_win_by_KO/TKO  R_win_by_Submission  \\\n",
       "0                          4.0              2.0                  0.0   \n",
       "1                          2.0              0.0                  2.0   \n",
       "2                          3.0              3.0                  6.0   \n",
       "3                          4.0              1.0                  0.0   \n",
       "4                          1.0              2.0                  0.0   \n",
       "\n",
       "   R_win_by_TKO_Doctor_Stoppage  R_wins  R_Height_cms  R_Reach_cms  \\\n",
       "0                           0.0     8.0        162.56       162.56   \n",
       "1                           0.0     5.0        165.10       167.64   \n",
       "2                           1.0    14.0        180.34       193.04   \n",
       "3                           0.0     6.0        162.56       172.72   \n",
       "4                           0.0     3.0        187.96       190.50   \n",
       "\n",
       "   R_Weight_lbs  B_age  R_age  \n",
       "0         135.0   31.0   32.0  \n",
       "1         125.0   32.0   31.0  \n",
       "2         155.0   36.0   35.0  \n",
       "3         135.0   26.0   29.0  \n",
       "4         264.0   32.0   26.0  \n",
       "\n",
       "[5 rows x 134 columns]"
      ]
     },
     "execution_count": 2,
     "metadata": {},
     "output_type": "execute_result"
    }
   ],
   "source": [
    "ufc_n = ufc.select_dtypes(include=['float'])\n",
    "print(ufc_n.shape)\n",
    "set_option('precision',2)\n",
    "ufc_n = ufc_n.copy()\n",
    "ufc_n.head()"
   ]
  },
  {
   "cell_type": "code",
   "execution_count": 3,
   "metadata": {},
   "outputs": [
    {
     "data": {
      "image/png": "[encoded data removed]",
      "text/plain": [
       "<Figure size 720x720 with 2 Axes>"
      ]
     },
     "metadata": {
      "needs_background": "light"
     },
     "output_type": "display_data"
    }
   ],
   "source": [
    "corr_matrix = ufc_n.corr(method='pearson').abs()\n",
    "fig = plt.figure(figsize=(10,10))\n",
    "ax = fig.add_subplot(111)\n",
    "cax  = ax.matshow(corr_matrix,vmin=-1,vmax=1)\n",
    "fig.colorbar(cax)\n",
    "plt.show()"
   ]
  },
  {
   "cell_type": "code",
   "execution_count": 4,
   "metadata": {},
   "outputs": [
    {
     "data": {
      "text/html": [
       "<div>\n",
       "<style scoped>\n",
       "    .dataframe tbody tr th:only-of-type {\n",
       "        vertical-align: middle;\n",
       "    }\n",
       "\n",
       "    .dataframe tbody tr th {\n",
       "        vertical-align: top;\n",
       "    }\n",
       "\n",
       "    .dataframe thead th {\n",
       "        text-align: right;\n",
       "    }\n",
       "</style>\n",
       "<table border=\"1\" class=\"dataframe\">\n",
       "  <thead>\n",
       "    <tr style=\"text-align: right;\">\n",
       "      <th></th>\n",
       "      <th>B_current_lose_streak</th>\n",
       "      <th>B_current_win_streak</th>\n",
       "      <th>B_draw</th>\n",
       "      <th>B_avg_BODY_att</th>\n",
       "      <th>B_avg_BODY_landed</th>\n",
       "      <th>B_avg_CLINCH_att</th>\n",
       "      <th>B_avg_CLINCH_landed</th>\n",
       "      <th>B_avg_DISTANCE_att</th>\n",
       "      <th>B_avg_DISTANCE_landed</th>\n",
       "      <th>B_avg_GROUND_att</th>\n",
       "      <th>...</th>\n",
       "      <th>R_win_by_KO/TKO</th>\n",
       "      <th>R_win_by_Submission</th>\n",
       "      <th>R_win_by_TKO_Doctor_Stoppage</th>\n",
       "      <th>R_wins</th>\n",
       "      <th>R_Height_cms</th>\n",
       "      <th>R_Reach_cms</th>\n",
       "      <th>R_Weight_lbs</th>\n",
       "      <th>B_age</th>\n",
       "      <th>R_age</th>\n",
       "      <th>Ganador</th>\n",
       "    </tr>\n",
       "  </thead>\n",
       "  <tbody>\n",
       "    <tr>\n",
       "      <th>0</th>\n",
       "      <td>0.0</td>\n",
       "      <td>4.0</td>\n",
       "      <td>0.0</td>\n",
       "      <td>9.20</td>\n",
       "      <td>6.00</td>\n",
       "      <td>0.20</td>\n",
       "      <td>0.00</td>\n",
       "      <td>62.60</td>\n",
       "      <td>20.60</td>\n",
       "      <td>2.60</td>\n",
       "      <td>...</td>\n",
       "      <td>2.0</td>\n",
       "      <td>0.0</td>\n",
       "      <td>0.0</td>\n",
       "      <td>8.0</td>\n",
       "      <td>162.56</td>\n",
       "      <td>162.56</td>\n",
       "      <td>135.0</td>\n",
       "      <td>31.0</td>\n",
       "      <td>32.0</td>\n",
       "      <td>Red</td>\n",
       "    </tr>\n",
       "    <tr>\n",
       "      <th>1</th>\n",
       "      <td>0.0</td>\n",
       "      <td>3.0</td>\n",
       "      <td>0.0</td>\n",
       "      <td>14.60</td>\n",
       "      <td>9.10</td>\n",
       "      <td>11.80</td>\n",
       "      <td>7.30</td>\n",
       "      <td>124.70</td>\n",
       "      <td>42.10</td>\n",
       "      <td>2.40</td>\n",
       "      <td>...</td>\n",
       "      <td>0.0</td>\n",
       "      <td>2.0</td>\n",
       "      <td>0.0</td>\n",
       "      <td>5.0</td>\n",
       "      <td>165.10</td>\n",
       "      <td>167.64</td>\n",
       "      <td>125.0</td>\n",
       "      <td>32.0</td>\n",
       "      <td>31.0</td>\n",
       "      <td>Red</td>\n",
       "    </tr>\n",
       "    <tr>\n",
       "      <th>2</th>\n",
       "      <td>0.0</td>\n",
       "      <td>3.0</td>\n",
       "      <td>0.0</td>\n",
       "      <td>15.35</td>\n",
       "      <td>11.32</td>\n",
       "      <td>6.74</td>\n",
       "      <td>4.39</td>\n",
       "      <td>84.74</td>\n",
       "      <td>38.58</td>\n",
       "      <td>5.52</td>\n",
       "      <td>...</td>\n",
       "      <td>3.0</td>\n",
       "      <td>6.0</td>\n",
       "      <td>1.0</td>\n",
       "      <td>14.0</td>\n",
       "      <td>180.34</td>\n",
       "      <td>193.04</td>\n",
       "      <td>155.0</td>\n",
       "      <td>36.0</td>\n",
       "      <td>35.0</td>\n",
       "      <td>Red</td>\n",
       "    </tr>\n",
       "    <tr>\n",
       "      <th>3</th>\n",
       "      <td>0.0</td>\n",
       "      <td>4.0</td>\n",
       "      <td>0.0</td>\n",
       "      <td>17.00</td>\n",
       "      <td>14.00</td>\n",
       "      <td>13.75</td>\n",
       "      <td>11.00</td>\n",
       "      <td>109.50</td>\n",
       "      <td>48.75</td>\n",
       "      <td>13.00</td>\n",
       "      <td>...</td>\n",
       "      <td>1.0</td>\n",
       "      <td>0.0</td>\n",
       "      <td>0.0</td>\n",
       "      <td>6.0</td>\n",
       "      <td>162.56</td>\n",
       "      <td>172.72</td>\n",
       "      <td>135.0</td>\n",
       "      <td>26.0</td>\n",
       "      <td>29.0</td>\n",
       "      <td>Blue</td>\n",
       "    </tr>\n",
       "    <tr>\n",
       "      <th>4</th>\n",
       "      <td>0.0</td>\n",
       "      <td>1.0</td>\n",
       "      <td>0.0</td>\n",
       "      <td>17.00</td>\n",
       "      <td>14.50</td>\n",
       "      <td>2.50</td>\n",
       "      <td>2.00</td>\n",
       "      <td>201.00</td>\n",
       "      <td>59.50</td>\n",
       "      <td>0.00</td>\n",
       "      <td>...</td>\n",
       "      <td>2.0</td>\n",
       "      <td>0.0</td>\n",
       "      <td>0.0</td>\n",
       "      <td>3.0</td>\n",
       "      <td>187.96</td>\n",
       "      <td>190.50</td>\n",
       "      <td>264.0</td>\n",
       "      <td>32.0</td>\n",
       "      <td>26.0</td>\n",
       "      <td>Blue</td>\n",
       "    </tr>\n",
       "  </tbody>\n",
       "</table>\n",
       "<p>5 rows × 135 columns</p>\n",
       "</div>"
      ],
      "text/plain": [
       "   B_current_lose_streak  B_current_win_streak  B_draw  B_avg_BODY_att  \\\n",
       "0                    0.0                   4.0     0.0            9.20   \n",
       "1                    0.0                   3.0     0.0           14.60   \n",
       "2                    0.0                   3.0     0.0           15.35   \n",
       "3                    0.0                   4.0     0.0           17.00   \n",
       "4                    0.0                   1.0     0.0           17.00   \n",
       "\n",
       "   B_avg_BODY_landed  B_avg_CLINCH_att  B_avg_CLINCH_landed  \\\n",
       "0               6.00              0.20                 0.00   \n",
       "1               9.10             11.80                 7.30   \n",
       "2              11.32              6.74                 4.39   \n",
       "3              14.00             13.75                11.00   \n",
       "4              14.50              2.50                 2.00   \n",
       "\n",
       "   B_avg_DISTANCE_att  B_avg_DISTANCE_landed  B_avg_GROUND_att  ...  \\\n",
       "0               62.60                  20.60              2.60  ...   \n",
       "1              124.70                  42.10              2.40  ...   \n",
       "2               84.74                  38.58              5.52  ...   \n",
       "3              109.50                  48.75             13.00  ...   \n",
       "4              201.00                  59.50              0.00  ...   \n",
       "\n",
       "   R_win_by_KO/TKO  R_win_by_Submission  R_win_by_TKO_Doctor_Stoppage  R_wins  \\\n",
       "0              2.0                  0.0                           0.0     8.0   \n",
       "1              0.0                  2.0                           0.0     5.0   \n",
       "2              3.0                  6.0                           1.0    14.0   \n",
       "3              1.0                  0.0                           0.0     6.0   \n",
       "4              2.0                  0.0                           0.0     3.0   \n",
       "\n",
       "   R_Height_cms  R_Reach_cms  R_Weight_lbs  B_age  R_age  Ganador  \n",
       "0        162.56       162.56         135.0   31.0   32.0      Red  \n",
       "1        165.10       167.64         125.0   32.0   31.0      Red  \n",
       "2        180.34       193.04         155.0   36.0   35.0      Red  \n",
       "3        162.56       172.72         135.0   26.0   29.0     Blue  \n",
       "4        187.96       190.50         264.0   32.0   26.0     Blue  \n",
       "\n",
       "[5 rows x 135 columns]"
      ]
     },
     "execution_count": 4,
     "metadata": {},
     "output_type": "execute_result"
    }
   ],
   "source": [
    "ganador = list(ufc['Winner'])\n",
    "ufc_n.insert(134,'Ganador',ganador,True)\n",
    "ufc_n.head()"
   ]
  },
  {
   "cell_type": "code",
   "execution_count": 5,
   "metadata": {},
   "outputs": [
    {
     "name": "stdout",
     "output_type": "stream",
     "text": [
      "0\n",
      "(3592, 135)\n"
     ]
    }
   ],
   "source": [
    "col_num = ['R_Weight_lbs','R_Height_cms','B_Height_cms','R_age','B_age','R_Reach_cms','B_Reach_cms']\n",
    "\n",
    "imp = ski.SimpleImputer(missing_values=np.nan , strategy='median')\n",
    "\n",
    "for col in col_num:\n",
    "    imputer_mediana = imp.fit_transform(ufc_n[col].values.reshape(-1,1))\n",
    "    ufc_n[col] = imputer_mediana\n",
    "\n",
    "ufc_n = ufc_n[ufc_n['Ganador'] != 'Draw']    \n",
    "ufc_n = ufc_n.dropna()\n",
    "ufc_n = ufc_n.copy()\n",
    "print(ufc_n.isna().sum().sum())\n",
    "print(ufc_n.shape)"
   ]
  },
  {
   "cell_type": "code",
   "execution_count": 6,
   "metadata": {},
   "outputs": [
    {
     "data": {
      "text/html": [
       "<div>\n",
       "<style scoped>\n",
       "    .dataframe tbody tr th:only-of-type {\n",
       "        vertical-align: middle;\n",
       "    }\n",
       "\n",
       "    .dataframe tbody tr th {\n",
       "        vertical-align: top;\n",
       "    }\n",
       "\n",
       "    .dataframe thead th {\n",
       "        text-align: right;\n",
       "    }\n",
       "</style>\n",
       "<table border=\"1\" class=\"dataframe\">\n",
       "  <thead>\n",
       "    <tr style=\"text-align: right;\">\n",
       "      <th></th>\n",
       "      <th>B_current_lose_streak</th>\n",
       "      <th>B_current_win_streak</th>\n",
       "      <th>B_draw</th>\n",
       "      <th>B_avg_BODY_att</th>\n",
       "      <th>B_avg_BODY_landed</th>\n",
       "      <th>B_avg_CLINCH_att</th>\n",
       "      <th>B_avg_CLINCH_landed</th>\n",
       "      <th>B_avg_DISTANCE_att</th>\n",
       "      <th>B_avg_DISTANCE_landed</th>\n",
       "      <th>B_avg_GROUND_att</th>\n",
       "      <th>...</th>\n",
       "      <th>R_win_by_KO/TKO</th>\n",
       "      <th>R_win_by_Submission</th>\n",
       "      <th>R_win_by_TKO_Doctor_Stoppage</th>\n",
       "      <th>R_wins</th>\n",
       "      <th>R_Height_cms</th>\n",
       "      <th>R_Reach_cms</th>\n",
       "      <th>R_Weight_lbs</th>\n",
       "      <th>B_age</th>\n",
       "      <th>R_age</th>\n",
       "      <th>Ganador</th>\n",
       "    </tr>\n",
       "  </thead>\n",
       "  <tbody>\n",
       "    <tr>\n",
       "      <th>0</th>\n",
       "      <td>0.0</td>\n",
       "      <td>4.0</td>\n",
       "      <td>0.0</td>\n",
       "      <td>9.20</td>\n",
       "      <td>6.00</td>\n",
       "      <td>0.20</td>\n",
       "      <td>0.00</td>\n",
       "      <td>62.60</td>\n",
       "      <td>20.60</td>\n",
       "      <td>2.60</td>\n",
       "      <td>...</td>\n",
       "      <td>2.0</td>\n",
       "      <td>0.0</td>\n",
       "      <td>0.0</td>\n",
       "      <td>8.0</td>\n",
       "      <td>162.56</td>\n",
       "      <td>162.56</td>\n",
       "      <td>135.0</td>\n",
       "      <td>31.0</td>\n",
       "      <td>32.0</td>\n",
       "      <td>1</td>\n",
       "    </tr>\n",
       "    <tr>\n",
       "      <th>1</th>\n",
       "      <td>0.0</td>\n",
       "      <td>3.0</td>\n",
       "      <td>0.0</td>\n",
       "      <td>14.60</td>\n",
       "      <td>9.10</td>\n",
       "      <td>11.80</td>\n",
       "      <td>7.30</td>\n",
       "      <td>124.70</td>\n",
       "      <td>42.10</td>\n",
       "      <td>2.40</td>\n",
       "      <td>...</td>\n",
       "      <td>0.0</td>\n",
       "      <td>2.0</td>\n",
       "      <td>0.0</td>\n",
       "      <td>5.0</td>\n",
       "      <td>165.10</td>\n",
       "      <td>167.64</td>\n",
       "      <td>125.0</td>\n",
       "      <td>32.0</td>\n",
       "      <td>31.0</td>\n",
       "      <td>1</td>\n",
       "    </tr>\n",
       "    <tr>\n",
       "      <th>2</th>\n",
       "      <td>0.0</td>\n",
       "      <td>3.0</td>\n",
       "      <td>0.0</td>\n",
       "      <td>15.35</td>\n",
       "      <td>11.32</td>\n",
       "      <td>6.74</td>\n",
       "      <td>4.39</td>\n",
       "      <td>84.74</td>\n",
       "      <td>38.58</td>\n",
       "      <td>5.52</td>\n",
       "      <td>...</td>\n",
       "      <td>3.0</td>\n",
       "      <td>6.0</td>\n",
       "      <td>1.0</td>\n",
       "      <td>14.0</td>\n",
       "      <td>180.34</td>\n",
       "      <td>193.04</td>\n",
       "      <td>155.0</td>\n",
       "      <td>36.0</td>\n",
       "      <td>35.0</td>\n",
       "      <td>1</td>\n",
       "    </tr>\n",
       "    <tr>\n",
       "      <th>3</th>\n",
       "      <td>0.0</td>\n",
       "      <td>4.0</td>\n",
       "      <td>0.0</td>\n",
       "      <td>17.00</td>\n",
       "      <td>14.00</td>\n",
       "      <td>13.75</td>\n",
       "      <td>11.00</td>\n",
       "      <td>109.50</td>\n",
       "      <td>48.75</td>\n",
       "      <td>13.00</td>\n",
       "      <td>...</td>\n",
       "      <td>1.0</td>\n",
       "      <td>0.0</td>\n",
       "      <td>0.0</td>\n",
       "      <td>6.0</td>\n",
       "      <td>162.56</td>\n",
       "      <td>172.72</td>\n",
       "      <td>135.0</td>\n",
       "      <td>26.0</td>\n",
       "      <td>29.0</td>\n",
       "      <td>0</td>\n",
       "    </tr>\n",
       "    <tr>\n",
       "      <th>4</th>\n",
       "      <td>0.0</td>\n",
       "      <td>1.0</td>\n",
       "      <td>0.0</td>\n",
       "      <td>17.00</td>\n",
       "      <td>14.50</td>\n",
       "      <td>2.50</td>\n",
       "      <td>2.00</td>\n",
       "      <td>201.00</td>\n",
       "      <td>59.50</td>\n",
       "      <td>0.00</td>\n",
       "      <td>...</td>\n",
       "      <td>2.0</td>\n",
       "      <td>0.0</td>\n",
       "      <td>0.0</td>\n",
       "      <td>3.0</td>\n",
       "      <td>187.96</td>\n",
       "      <td>190.50</td>\n",
       "      <td>264.0</td>\n",
       "      <td>32.0</td>\n",
       "      <td>26.0</td>\n",
       "      <td>0</td>\n",
       "    </tr>\n",
       "  </tbody>\n",
       "</table>\n",
       "<p>5 rows × 135 columns</p>\n",
       "</div>"
      ],
      "text/plain": [
       "   B_current_lose_streak  B_current_win_streak  B_draw  B_avg_BODY_att  \\\n",
       "0                    0.0                   4.0     0.0            9.20   \n",
       "1                    0.0                   3.0     0.0           14.60   \n",
       "2                    0.0                   3.0     0.0           15.35   \n",
       "3                    0.0                   4.0     0.0           17.00   \n",
       "4                    0.0                   1.0     0.0           17.00   \n",
       "\n",
       "   B_avg_BODY_landed  B_avg_CLINCH_att  B_avg_CLINCH_landed  \\\n",
       "0               6.00              0.20                 0.00   \n",
       "1               9.10             11.80                 7.30   \n",
       "2              11.32              6.74                 4.39   \n",
       "3              14.00             13.75                11.00   \n",
       "4              14.50              2.50                 2.00   \n",
       "\n",
       "   B_avg_DISTANCE_att  B_avg_DISTANCE_landed  B_avg_GROUND_att  ...  \\\n",
       "0               62.60                  20.60              2.60  ...   \n",
       "1              124.70                  42.10              2.40  ...   \n",
       "2               84.74                  38.58              5.52  ...   \n",
       "3              109.50                  48.75             13.00  ...   \n",
       "4              201.00                  59.50              0.00  ...   \n",
       "\n",
       "   R_win_by_KO/TKO  R_win_by_Submission  R_win_by_TKO_Doctor_Stoppage  R_wins  \\\n",
       "0              2.0                  0.0                           0.0     8.0   \n",
       "1              0.0                  2.0                           0.0     5.0   \n",
       "2              3.0                  6.0                           1.0    14.0   \n",
       "3              1.0                  0.0                           0.0     6.0   \n",
       "4              2.0                  0.0                           0.0     3.0   \n",
       "\n",
       "   R_Height_cms  R_Reach_cms  R_Weight_lbs  B_age  R_age  Ganador  \n",
       "0        162.56       162.56         135.0   31.0   32.0        1  \n",
       "1        165.10       167.64         125.0   32.0   31.0        1  \n",
       "2        180.34       193.04         155.0   36.0   35.0        1  \n",
       "3        162.56       172.72         135.0   26.0   29.0        0  \n",
       "4        187.96       190.50         264.0   32.0   26.0        0  \n",
       "\n",
       "[5 rows x 135 columns]"
      ]
     },
     "execution_count": 6,
     "metadata": {},
     "output_type": "execute_result"
    }
   ],
   "source": [
    "le = LabelEncoder()\n",
    "ufc_n['Ganador'] = le.fit_transform(ufc_n.Ganador)\n",
    "ufc_n.head()"
   ]
  },
  {
   "cell_type": "markdown",
   "metadata": {},
   "source": [
    "***EVALUACIÓN ALGORITMOS***"
   ]
  },
  {
   "cell_type": "code",
   "execution_count": 7,
   "metadata": {},
   "outputs": [],
   "source": [
    "array = ufc_n.values\n",
    "x = array[:,:134]\n",
    "Y = array[:,134]\n",
    "Y=Y.astype('int')\n",
    "scaler = MinMaxScaler(feature_range=(0, 1))\n",
    "rescaledx = scaler.fit_transform(x)\n",
    "X= rescaledx\n",
    "X_train, X_test, Y_train, Y_test = train_test_split(X, Y, test_size=0.3)"
   ]
  },
  {
   "cell_type": "code",
   "execution_count": 8,
   "metadata": {},
   "outputs": [
    {
     "name": "stdout",
     "output_type": "stream",
     "text": [
      "(2514, 134)\n",
      "(2514,)\n",
      "(1078, 134)\n",
      "(1078,)\n"
     ]
    }
   ],
   "source": [
    "print(X_train.shape)\n",
    "print(Y_train.shape)\n",
    "print(X_test.shape)\n",
    "print(Y_test.shape)"
   ]
  },
  {
   "cell_type": "code",
   "execution_count": 9,
   "metadata": {},
   "outputs": [],
   "source": [
    "modelos = []\n",
    "modelos.append(('LR', LogisticRegression(solver='lbfgs', max_iter=500)))\n",
    "modelos.append(('LDA', LinearDiscriminantAnalysis()))\n",
    "modelos.append(('KNN', KNeighborsClassifier()))\n",
    "modelos.append(('CART', DecisionTreeClassifier()))\n",
    "modelos.append(('NB', GaussianNB()))\n",
    "modelos.append(('SVM', SVC()))"
   ]
  },
  {
   "cell_type": "code",
   "execution_count": 10,
   "metadata": {},
   "outputs": [
    {
     "name": "stdout",
     "output_type": "stream",
     "text": [
      "LR: 0.681792 (0.029377)\n",
      "LDA: 0.676632 (0.037734)\n",
      "KNN: 0.625356 (0.037847)\n",
      "CART: 0.600275 (0.038256)\n",
      "NB: 0.599892 (0.048737)\n",
      "SVM: 0.681800 (0.034622)\n"
     ]
    }
   ],
   "source": [
    "resultados = []\n",
    "nombres = []\n",
    "scoring = 'accuracy'\n",
    "for nombre, modelo in modelos:\n",
    "\tkfold = KFold(n_splits=10, random_state=None)\n",
    "\tcv_results = cross_val_score(modelo, X_train, Y_train, cv=kfold, scoring=scoring)\n",
    "\tresultados.append(cv_results)\n",
    "\tnombres.append(nombre)\n",
    "\tmsg = \"%s: %f (%f)\" % (nombre, cv_results.mean(), cv_results.std())\n",
    "\tprint(msg)"
   ]
  },
  {
   "cell_type": "code",
   "execution_count": 11,
   "metadata": {},
   "outputs": [
    {
     "data": {
      "image/png": "[encoded data removed]",
      "text/plain": [
       "<Figure size 432x288 with 1 Axes>"
      ]
     },
     "metadata": {
      "needs_background": "light"
     },
     "output_type": "display_data"
    }
   ],
   "source": [
    "fig = plt.figure()\n",
    "fig.suptitle('Comparación de los algoritmos')\n",
    "ax = fig.add_subplot(111)\n",
    "plt.boxplot(resultados)\n",
    "ax.set_xticklabels(nombres)\n",
    "plt.show()"
   ]
  },
  {
   "cell_type": "markdown",
   "metadata": {},
   "source": [
    "***RECORDEMOS QUE HEMOS CODIFICADO EL COLOR DEL LUCHADOR COMO:***\n",
    "\n",
    "1-->ROJO\n",
    "\n",
    "\n",
    "0-->AZUL"
   ]
  },
  {
   "cell_type": "markdown",
   "metadata": {},
   "source": [
    "***Escogemos los 3 algoritmos con mejor precisión para medir su curva ROC-AUC***"
   ]
  },
  {
   "cell_type": "markdown",
   "metadata": {},
   "source": [
    "***LogisiticRegression***"
   ]
  },
  {
   "cell_type": "code",
   "execution_count": 12,
   "metadata": {},
   "outputs": [
    {
     "data": {
      "text/plain": [
       "[Text(0, 0.5, 'Azul'), Text(0, 1.5, 'Rojo')]"
      ]
     },
     "execution_count": 12,
     "metadata": {},
     "output_type": "execute_result"
    },
    {
     "data": {
      "image/png": "[encoded data removed]",
      "text/plain": [
       "<Figure size 432x288 with 2 Axes>"
      ]
     },
     "metadata": {
      "needs_background": "light"
     },
     "output_type": "display_data"
    }
   ],
   "source": [
    "lr = LogisticRegression(solver='lbfgs', max_iter=500)\n",
    "lr.fit(X_train, Y_train)\n",
    "lr_pred = lr.predict(X_test)\n",
    "cm = confusion_matrix(Y_test, lr_pred) \n",
    "ax = plt.subplot()\n",
    "sns.heatmap(cm, annot = True, ax = ax, fmt = \"d\" ,cmap='Oranges')\n",
    "ax.set_title(\"Matriz de confusión\", color='orange')\n",
    "ax.xaxis.set_ticklabels(['Azul', 'Rojo'])\n",
    "ax.yaxis.set_ticklabels(['Azul', 'Rojo'])"
   ]
  },
  {
   "cell_type": "code",
   "execution_count": 13,
   "metadata": {},
   "outputs": [
    {
     "data": {
      "image/png": "[encoded data removed]",
      "text/plain": [
       "<Figure size 432x288 with 1 Axes>"
      ]
     },
     "metadata": {
      "needs_background": "light"
     },
     "output_type": "display_data"
    }
   ],
   "source": [
    "lr.fit(X_test,Y_test)\n",
    "probs = lr.predict_proba(X_test)\n",
    "preds = probs[:,1]\n",
    "fpr, tpr, threshold = metrics.roc_curve(Y_test, preds)\n",
    "roc_auc = metrics.auc(fpr, tpr)\n",
    "plt.title('CURVA AUC-ROC LR')\n",
    "plt.plot(fpr, tpr, 'orange',marker='.', label = 'AUC = %0.2f' % roc_auc)\n",
    "plt.legend(loc = 'lower right')\n",
    "plt.plot([0, 1], [0, 1],'b--')\n",
    "plt.xlim([0, 1])\n",
    "plt.ylim([0, 1])\n",
    "plt.ylabel('Verdaderos positivos')\n",
    "plt.xlabel('Falsos positivos')\n",
    "plt.show()"
   ]
  },
  {
   "cell_type": "code",
   "execution_count": 14,
   "metadata": {
    "scrolled": true
   },
   "outputs": [
    {
     "name": "stdout",
     "output_type": "stream",
     "text": [
      "              precision    recall  f1-score   support\n",
      "\n",
      "           0       0.53      0.32      0.40       342\n",
      "           1       0.73      0.87      0.80       736\n",
      "\n",
      "    accuracy                           0.69      1078\n",
      "   macro avg       0.63      0.59      0.60      1078\n",
      "weighted avg       0.67      0.69      0.67      1078\n",
      "\n"
     ]
    }
   ],
   "source": [
    "print(classification_report(Y_test,lr_pred))"
   ]
  },
  {
   "cell_type": "markdown",
   "metadata": {},
   "source": [
    "***LinearDiscriminantAnalysis***"
   ]
  },
  {
   "cell_type": "code",
   "execution_count": 15,
   "metadata": {},
   "outputs": [
    {
     "data": {
      "text/plain": [
       "[Text(0, 0.5, 'Azul'), Text(0, 1.5, 'Rojo')]"
      ]
     },
     "execution_count": 15,
     "metadata": {},
     "output_type": "execute_result"
    },
    {
     "data": {
      "image/png": "[encoded data removed]",
      "text/plain": [
       "<Figure size 432x288 with 2 Axes>"
      ]
     },
     "metadata": {
      "needs_background": "light"
     },
     "output_type": "display_data"
    }
   ],
   "source": [
    "lda = LinearDiscriminantAnalysis()\n",
    "lda.fit(X_train,Y_train)\n",
    "lda_pred = lda.predict(X_test)\n",
    "cm = confusion_matrix(Y_test, lda_pred) \n",
    "ax = plt.subplot()\n",
    "sns.heatmap(cm, annot = True, ax = ax, fmt = \"d\" ,cmap='Purples')\n",
    "ax.set_title(\"Matriz de confusión\", color='purple')\n",
    "ax.xaxis.set_ticklabels(['Azul', 'Rojo'])\n",
    "ax.yaxis.set_ticklabels(['Azul', 'Rojo'])"
   ]
  },
  {
   "cell_type": "code",
   "execution_count": 16,
   "metadata": {},
   "outputs": [
    {
     "name": "stdout",
     "output_type": "stream",
     "text": [
      "              precision    recall  f1-score   support\n",
      "\n",
      "           0       0.50      0.37      0.42       342\n",
      "           1       0.74      0.83      0.78       736\n",
      "\n",
      "    accuracy                           0.68      1078\n",
      "   macro avg       0.62      0.60      0.60      1078\n",
      "weighted avg       0.66      0.68      0.67      1078\n",
      "\n"
     ]
    }
   ],
   "source": [
    "print(classification_report(Y_test,lda_pred))"
   ]
  },
  {
   "cell_type": "code",
   "execution_count": 17,
   "metadata": {},
   "outputs": [
    {
     "data": {
      "image/png": "[encoded data removed]",
      "text/plain": [
       "<Figure size 432x288 with 1 Axes>"
      ]
     },
     "metadata": {
      "needs_background": "light"
     },
     "output_type": "display_data"
    }
   ],
   "source": [
    "lda.fit(X_test,Y_test)\n",
    "probs = lda.predict_proba(X_test)\n",
    "preds = probs[:,1]\n",
    "fpr, tpr, threshold = metrics.roc_curve(Y_test, preds)\n",
    "roc_auc = metrics.auc(fpr, tpr)\n",
    "plt.title('CURVA AUC-ROC LDA')\n",
    "plt.plot(fpr, tpr, 'purple',marker='.', label = 'AUC = %0.2f' % roc_auc)\n",
    "plt.legend(loc = 'lower right')\n",
    "plt.plot([0, 1], [0, 1],'b--')\n",
    "plt.xlim([0, 1])\n",
    "plt.ylim([0, 1])\n",
    "plt.ylabel('Verdaderos positivos')\n",
    "plt.xlabel('Falsos positivos')\n",
    "plt.show()"
   ]
  },
  {
   "cell_type": "markdown",
   "metadata": {},
   "source": [
    "***SupportVectorMachines***"
   ]
  },
  {
   "cell_type": "code",
   "execution_count": 18,
   "metadata": {},
   "outputs": [
    {
     "data": {
      "text/plain": [
       "[Text(0, 0.5, 'Azul'), Text(0, 1.5, 'Rojo')]"
      ]
     },
     "execution_count": 18,
     "metadata": {},
     "output_type": "execute_result"
    },
    {
     "data": {
      "image/png": "[encoded data removed]",
      "text/plain": [
       "<Figure size 432x288 with 2 Axes>"
      ]
     },
     "metadata": {
      "needs_background": "light"
     },
     "output_type": "display_data"
    }
   ],
   "source": [
    "svc = SVC(gamma='scale', probability=True)\n",
    "svc.fit(X_train,Y_train)\n",
    "svc_pred = svc.predict(X_test)\n",
    "cm = confusion_matrix(Y_test, svc_pred) \n",
    "ax = plt.subplot()\n",
    "sns.heatmap(cm, annot = True, ax = ax, fmt = \"d\" ,cmap='Greens')\n",
    "ax.set_title(\"Matriz de confusión\", color='Green')\n",
    "ax.xaxis.set_ticklabels(['Azul', 'Rojo'])\n",
    "ax.yaxis.set_ticklabels(['Azul', 'Rojo'])"
   ]
  },
  {
   "cell_type": "code",
   "execution_count": 19,
   "metadata": {},
   "outputs": [
    {
     "name": "stdout",
     "output_type": "stream",
     "text": [
      "              precision    recall  f1-score   support\n",
      "\n",
      "           0       0.58      0.23      0.33       342\n",
      "           1       0.72      0.92      0.81       736\n",
      "\n",
      "    accuracy                           0.70      1078\n",
      "   macro avg       0.65      0.58      0.57      1078\n",
      "weighted avg       0.68      0.70      0.66      1078\n",
      "\n"
     ]
    }
   ],
   "source": [
    "print(classification_report(Y_test,svc_pred))"
   ]
  },
  {
   "cell_type": "code",
   "execution_count": 20,
   "metadata": {},
   "outputs": [
    {
     "data": {
      "image/png": "[encoded data removed]",
      "text/plain": [
       "<Figure size 432x288 with 1 Axes>"
      ]
     },
     "metadata": {
      "needs_background": "light"
     },
     "output_type": "display_data"
    }
   ],
   "source": [
    "svc.fit(X_test,Y_test)\n",
    "probs = svc.predict_proba(X_test)\n",
    "preds = probs[:,1]\n",
    "fpr, tpr, threshold = metrics.roc_curve(Y_test, preds)\n",
    "roc_auc = metrics.auc(fpr, tpr)\n",
    "plt.title('CURVA AUC-ROC SVC')\n",
    "plt.plot(fpr, tpr, 'green',marker='.', label = 'AUC = %0.2f' % roc_auc)\n",
    "plt.legend(loc = 'lower right')\n",
    "plt.plot([0, 1], [0, 1],'b--')\n",
    "plt.xlim([0, 1])\n",
    "plt.ylim([0, 1])\n",
    "plt.ylabel('Verdaderos positivos')\n",
    "plt.xlabel('Falsos positivos')\n",
    "plt.show()"
   ]
  },
  {
   "cell_type": "markdown",
   "metadata": {},
   "source": [
    "***ESCOGEMOS EL MODELO QUE MEJOR PRESTACIONES NOS DA PARA MEJORARLO(TUNNING) Y GUARDAR EL MODELO***"
   ]
  },
  {
   "cell_type": "code",
   "execution_count": 21,
   "metadata": {},
   "outputs": [],
   "source": [
    "model = SVC() \n",
    "model.fit(X_train, Y_train) \n",
    "predictions = model.predict(X_test) \n"
   ]
  },
  {
   "cell_type": "code",
   "execution_count": 22,
   "metadata": {},
   "outputs": [
    {
     "name": "stdout",
     "output_type": "stream",
     "text": [
      "0.653938 (0.000276) with: {'C': 0.1, 'gamma': 1, 'kernel': 'rbf'}\n",
      "0.653938 (0.000276) with: {'C': 0.1, 'gamma': 0.1, 'kernel': 'rbf'}\n",
      "0.653938 (0.000276) with: {'C': 0.1, 'gamma': 0.01, 'kernel': 'rbf'}\n",
      "0.653938 (0.000276) with: {'C': 0.1, 'gamma': 0.001, 'kernel': 'rbf'}\n",
      "0.653938 (0.000276) with: {'C': 0.1, 'gamma': 0.0001, 'kernel': 'rbf'}\n",
      "0.680192 (0.005315) with: {'C': 1, 'gamma': 1, 'kernel': 'rbf'}\n",
      "0.660698 (0.004259) with: {'C': 1, 'gamma': 0.1, 'kernel': 'rbf'}\n",
      "0.653938 (0.000276) with: {'C': 1, 'gamma': 0.01, 'kernel': 'rbf'}\n",
      "0.653938 (0.000276) with: {'C': 1, 'gamma': 0.001, 'kernel': 'rbf'}\n",
      "0.653938 (0.000276) with: {'C': 1, 'gamma': 0.0001, 'kernel': 'rbf'}\n",
      "0.662688 (0.017138) with: {'C': 10, 'gamma': 1, 'kernel': 'rbf'}\n",
      "0.669456 (0.007488) with: {'C': 10, 'gamma': 0.1, 'kernel': 'rbf'}\n",
      "0.661096 (0.006355) with: {'C': 10, 'gamma': 0.01, 'kernel': 'rbf'}\n",
      "0.653938 (0.000276) with: {'C': 10, 'gamma': 0.001, 'kernel': 'rbf'}\n",
      "0.653938 (0.000276) with: {'C': 10, 'gamma': 0.0001, 'kernel': 'rbf'}\n",
      "0.662688 (0.017138) with: {'C': 100, 'gamma': 1, 'kernel': 'rbf'}\n",
      "0.642813 (0.019811) with: {'C': 100, 'gamma': 0.1, 'kernel': 'rbf'}\n",
      "0.675822 (0.014351) with: {'C': 100, 'gamma': 0.01, 'kernel': 'rbf'}\n",
      "0.662289 (0.007972) with: {'C': 100, 'gamma': 0.001, 'kernel': 'rbf'}\n",
      "0.653938 (0.000276) with: {'C': 100, 'gamma': 0.0001, 'kernel': 'rbf'}\n",
      "0.662688 (0.017138) with: {'C': 1000, 'gamma': 1, 'kernel': 'rbf'}\n",
      "0.615751 (0.021624) with: {'C': 1000, 'gamma': 0.1, 'kernel': 'rbf'}\n",
      "0.663888 (0.011280) with: {'C': 1000, 'gamma': 0.01, 'kernel': 'rbf'}\n",
      "0.678206 (0.011520) with: {'C': 1000, 'gamma': 0.001, 'kernel': 'rbf'}\n",
      "0.662289 (0.007972) with: {'C': 1000, 'gamma': 0.0001, 'kernel': 'rbf'}\n"
     ]
    }
   ],
   "source": [
    "param_grid = {'C': [0.1, 1, 10, 100, 1000],  \n",
    "              'gamma': [1, 0.1, 0.01, 0.001, 0.0001], \n",
    "              'kernel': ['rbf']}  \n",
    "  \n",
    "grid = GridSearchCV(SVC(), param_grid, refit = True, verbose = 0) \n",
    "  \n",
    "\n",
    "grid_result = grid.fit(X_train, Y_train) \n",
    "\n",
    "means = grid_result.cv_results_['mean_test_score']\n",
    "stds = grid_result.cv_results_['std_test_score']\n",
    "params = grid_result.cv_results_['params']\n",
    "for mean, stdev, param in zip(means, stds, params):\n",
    "    print(\"%f (%f) with: %r\" % (mean, stdev, param))"
   ]
  },
  {
   "cell_type": "code",
   "execution_count": 23,
   "metadata": {},
   "outputs": [
    {
     "name": "stdout",
     "output_type": "stream",
     "text": [
      "0.6801921538498095\n",
      "{'C': 1, 'gamma': 1, 'kernel': 'rbf'}\n",
      "SVC(C=1, gamma=1)\n"
     ]
    }
   ],
   "source": [
    "print(grid_result.best_score_)\n",
    "print(grid.best_params_) \n",
    "print(grid.best_estimator_) "
   ]
  },
  {
   "cell_type": "code",
   "execution_count": 31,
   "metadata": {},
   "outputs": [
    {
     "data": {
      "text/plain": [
       "['modeloUFC_finalizado_joblib.sav']"
      ]
     },
     "execution_count": 31,
     "metadata": {},
     "output_type": "execute_result"
    }
   ],
   "source": [
    "modelo = SVC(C=1, gamma=1 , kernel='rbf')\n",
    "fichero_modeloJoblib = 'modeloUFC_finalizado_joblib.sav'\n",
    "dump(modelo, fichero_modeloJoblib)"
   ]
  },
  {
   "cell_type": "code",
   "execution_count": null,
   "metadata": {},
   "outputs": [],
   "source": [
    "modelo_cargado = load(fichero_modeloJoblib)\n",
    "resultado = modelo_cargado.score(X_test, Y_test)\n",
    "print(\"Resultado: \" + str(resultado))\n"
   ]
  }
 ],
 "metadata": {
  "kernelspec": {
   "display_name": "Python 3",
   "language": "python",
   "name": "python3"
  },
  "language_info": {
   "codemirror_mode": {
    "name": "ipython",
    "version": 3
   },
   "file_extension": ".py",
   "mimetype": "text/x-python",
   "name": "python",
   "nbconvert_exporter": "python",
   "pygments_lexer": "ipython3",
   "version": "3.8.5"
  }
 },
 "nbformat": 4,
 "nbformat_minor": 4
}
